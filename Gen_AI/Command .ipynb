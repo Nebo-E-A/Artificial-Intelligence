{
 "cells": [
  {
   "cell_type": "code",
   "execution_count": null,
   "id": "cab50a3f",
   "metadata": {},
   "outputs": [],
   "source": [
    "import speech_recognition as sr\n",
    "    "
   ]
  },
  {
   "cell_type": "code",
   "execution_count": null,
   "id": "0c8ddb78",
   "metadata": {},
   "outputs": [],
   "source": [
    "def speechrecognition(): \n",
    "    with sr.Microphone() as sourse:\n",
    "    print(\"listening...\")\n",
    "    audio = ear.listen(sourse)\n",
    "    try:\n",
    "        text = ear.recognize_google(audio)\n",
    "        print(text)\n",
    "    except:\n",
    "        print(\"i didn't get that...\")\n",
    "if __name__ == '__main__':\n",
    "  main()"
   ]
  }
 ],
 "metadata": {
  "kernelspec": {
   "display_name": "Python 3 (ipykernel)",
   "language": "python",
   "name": "python3"
  },
  "language_info": {
   "codemirror_mode": {
    "name": "ipython",
    "version": 3
   },
   "file_extension": ".py",
   "mimetype": "text/x-python",
   "name": "python",
   "nbconvert_exporter": "python",
   "pygments_lexer": "ipython3",
   "version": "3.11.4"
  }
 },
 "nbformat": 4,
 "nbformat_minor": 5
}
