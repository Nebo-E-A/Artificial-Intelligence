{
 "cells": [
  {
   "cell_type": "code",
   "execution_count": 22,
   "id": "7280d04c",
   "metadata": {},
   "outputs": [],
   "source": [
    "import face_recognition \n",
    "import cv2 \n",
    "import os \n",
    "import time\n",
    "from tkinter import Tk \n",
    "from tkinter.filedialog import askopenfilename "
   ]
  },
  {
   "cell_type": "code",
   "execution_count": 23,
   "id": "47f7effa",
   "metadata": {},
   "outputs": [],
   "source": [
    "def attendance_input():\n",
    "    key = cv2.waitKey(0)\n",
    "    webcam = cv2.VideoCapture(0)\n",
    "    while True: \n",
    "        check, frame1 = webcam.read() \n",
    "        frame = cv2.resize(frame1, (1280,720))\n",
    "        cv2.putText(frame,\"Press 's' to save the photo for today's attendance.\",(30,20), cv2.FONT_HERSHEY_SIMPLEX,2,(255,0,0),2)\n",
    "        cv2.imshow(\"Capturing\", frame) \n",
    "\n",
    "        path_=\"Attendance_Test/\"\n",
    "        save_path=os.path.join(path_,'test1.jpg') \n",
    "        imagedict = {\n",
    "            'imageInSaved_path' : save_path,\n",
    "        }\n",
    "\n",
    "\n",
    "        if cv2.waitKey(1) & 0xFF==ord('s'):\n",
    "            cv2.imwrite(save_path,frame)\n",
    "            print(\"Saved your imagé successfully\")\n",
    "            break \n",
    "        if cv2.waitKey(1) & 0xFF==ord('q'):\n",
    "            print(\"thanks for your response\")\n",
    "            break\n",
    "    webcam.release()\n",
    "    cv2.destroyAllWindows() \n",
    "    return imagedict\n",
    "\n",
    "        \n"
   ]
  },
  {
   "cell_type": "code",
   "execution_count": 24,
   "id": "ebae0268",
   "metadata": {},
   "outputs": [],
   "source": [
    "def encode_faces(folder): \n",
    "    list_people_encoding=[] \n",
    "    for filename in os.listdir(folder): \n",
    "        known_image=face_recognition.load_image_file(f'{folder}{filename}') \n",
    "        known_encoding=face_recognition.face_encodings(known_image)[0]\n",
    "        \n",
    "        list_people_encoding.append((filename,known_encoding))\n",
    "    return list_people_encoding"
   ]
  },
  {
   "cell_type": "code",
   "execution_count": 41,
   "id": "7738ad5b",
   "metadata": {},
   "outputs": [],
   "source": [
    "def find_target_face():  \n",
    "    #imagedict=attendance_input() \n",
    "    #time.sleep(5)\n",
    "    #Tk().withdraw() \n",
    "    #load_image=askopenfilename() \n",
    "    #print(imagedict.keys()) \n",
    "    #print(imagedict.values())\n",
    "    load_image_path='Attendance_Test/test1.jpg' \n",
    "    print(load_image_path)\n",
    "    target_image=face_recognition.load_image_file(load_image_path) \n",
    "    #print(target_image)\n",
    "    target_encoding=face_recognition.face_encodings(target_image)\n",
    "    #face_location=face_recognition.face_locations(target_image)\n",
    "    for person in encode_faces('Attendance_Profiles/'): \n",
    "        filename=person[0] \n",
    "        known_faces=person[1]\n",
    "        is_target_face=face_recognition.compare_faces(known_faces,target_encoding,tolerance=0.55) \n",
    "        print(f'{is_target_face}{filename}')         \n",
    "                 "
   ]
  },
  {
   "cell_type": "code",
   "execution_count": 42,
   "id": "f5aee400",
   "metadata": {},
   "outputs": [
    {
     "name": "stdout",
     "output_type": "stream",
     "text": [
      "Attendance_Test/test1.jpg\n",
      "[True, False]Nebo.png\n",
      "[False, False]RamSurya.png\n",
      "[False, False]Sibihasan.jpg\n",
      "[False, True]Sridhar.png\n"
     ]
    }
   ],
   "source": [
    "if __name__ == '__main__':\n",
    "  find_target_face()"
   ]
  },
  {
   "cell_type": "code",
   "execution_count": null,
   "id": "7da364fd",
   "metadata": {},
   "outputs": [],
   "source": [
    "find_target_face()"
   ]
  },
  {
   "cell_type": "code",
   "execution_count": null,
   "id": "d9c568ae",
   "metadata": {},
   "outputs": [],
   "source": []
  }
 ],
 "metadata": {
  "kernelspec": {
   "display_name": "Python 3 (ipykernel)",
   "language": "python",
   "name": "python3"
  },
  "language_info": {
   "codemirror_mode": {
    "name": "ipython",
    "version": 3
   },
   "file_extension": ".py",
   "mimetype": "text/x-python",
   "name": "python",
   "nbconvert_exporter": "python",
   "pygments_lexer": "ipython3",
   "version": "3.11.4"
  }
 },
 "nbformat": 4,
 "nbformat_minor": 5
}
