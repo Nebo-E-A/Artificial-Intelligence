{
 "cells": [
  {
   "cell_type": "code",
   "execution_count": 6,
   "id": "769fb225",
   "metadata": {},
   "outputs": [],
   "source": [
    "import cv2 \n",
    "import face_recognition   \n",
    "import pandas as pd  \n",
    "import time"
   ]
  },
  {
   "cell_type": "code",
   "execution_count": 7,
   "id": "8ea3a50c",
   "metadata": {},
   "outputs": [],
   "source": [
    "def read_data():\n",
    "    global attendance_dataframe\n",
    "    attendance_dataframe=pd.read_csv('Attendance.csv')  \n",
    "    collect_information()\n"
   ]
  },
  {
   "cell_type": "code",
   "execution_count": 8,
   "id": "5cde4ee2",
   "metadata": {},
   "outputs": [],
   "source": [
    "def collect_information(): \n",
    "    name=input('Enter your full name:') \n",
    "    img_path=input('Pasté the image path:') \n",
    "    row={'Name':[name],'Image path':[img_path],'Day1':\"\"}  \n",
    "    #return row\n",
    "    pd_row=pd.DataFrame(row) \n",
    "    save_to_dataframe(row) \n",
    "    "
   ]
  },
  {
   "cell_type": "code",
   "execution_count": 9,
   "id": "1152795e",
   "metadata": {},
   "outputs": [],
   "source": [
    "def save_to_dataframe(row): \n",
    "    global attendance_dataframe\n",
    "    attendance_dataframe=attendance_dataframe.append(row,ignore_index=True) \n",
    "    facial_encoding()\n",
    "    "
   ]
  },
  {
   "cell_type": "code",
   "execution_count": 10,
   "id": "5b2dc3e6",
   "metadata": {},
   "outputs": [],
   "source": [
    "def facial_encoding():\n",
    "    known_image = face_recognition.load_image_file(\"D:/Documents/Profile.png\") \n",
    "    known_face_encoding = face_recognition.face_encodings(known_image)[0]\n",
    "    #print(known_face_encoding)\n",
    "    # Create a list of known face encodings and their corresponding names\n",
    "    known_face_encodings = [known_face_encoding]\n",
    "    known_face_names = [\"Present\"] \n",
    "    attendance(known_face_encodings,known_face_names)"
   ]
  },
  {
   "cell_type": "code",
   "execution_count": 11,
   "id": "b3a1a949",
   "metadata": {},
   "outputs": [],
   "source": [
    "def attendance(known_face_encodings,known_face_names):\n",
    "    cap = cv2.VideoCapture(0)  \n",
    "    global final_attendance\n",
    "    global count  \n",
    "    count=5 \n",
    "    final_attendance=False  \n",
    "    day_no=1\n",
    "    while True: \n",
    "        ret, frame = cap.read() \n",
    "        # Find all face locations and encodings in the current frame\n",
    "        face_locations = face_recognition.face_locations(frame, number_of_times_to_upsample=1, model='hog')\n",
    "        face_encodings = face_recognition.face_encodings(frame, face_locations)\n",
    "\n",
    "        for face_encoding in face_encodings:\n",
    "            # Compare the current face with known faces\n",
    "            matches = face_recognition.compare_faces(known_face_encodings, face_encoding) \n",
    "            name = \"Absent\" \n",
    "            if(count==-1): \n",
    "                    acknowledge_text=\"Your are marked as Present\"  \n",
    "                    cv2.putText(frame, acknowledge_text, (left, top - 10), cv2.FONT_HERSHEY_SIMPLEX, 0.6, (0,255,0), 2)  \n",
    "                    final_attendance=True \n",
    "                    attendance_dataframe['Day 1']=\"Present\"  \n",
    "                    break\n",
    "            print(matches)         \n",
    "            if True in matches: \n",
    "                first_match_index = matches.index(True)\n",
    "                name = known_face_names[first_match_index]  \n",
    "                present_text=f\"Kindly be still for {count} second(s) while we mark your attendance\"\n",
    "                count-=1\n",
    "                top, right, bottom, left = face_locations[0]\n",
    "                cv2.rectangle(frame, (left, top), (right, bottom), (0, 255, 0), 2)\n",
    "                cv2.putText(frame, present_text, (left-225, top - 10), cv2.FONT_HERSHEY_SIMPLEX, 0.6, (255,0,0), 2) \n",
    "\n",
    "            elif(name==\"Unknown Person\"): \n",
    "                alert_text=\"You are not allowed to scan your face\"\n",
    "                top, right, bottom, left = face_locations[0]\n",
    "                cv2.putText(frame,alert_text, (left-200,top-100), cv2.FONT_HERSHEY_SIMPLEX, 0.6, (0, 255, 0), 2) \n",
    "                #cv2.putText(frame,remaining_warning_text,(left-100,top-80), cv2.FONT_HERSHEY_SIMPLEX, 0.6, (0, 255, 0), 2)    \n",
    "        #cv2.putText(frame,\"Exitted for loop\",(left-100,top-80), cv2.FONT_HERSHEY_SIMPLEX, 0.6, (0, 255, 0), 2) '''\n",
    "        #print(count) \n",
    "        #print(remaining_warning_text)\n",
    "        cv2.imshow('Attendance Marker', frame) \n",
    "\n",
    "\n",
    "        if ((cv2.waitKey(1) & 0xFF == ord('q')) or (final_attendance==True)):\n",
    "            time.sleep(5)\n",
    "            break\n",
    "\n",
    "    cap.release()\n",
    "    cv2.destroyAllWindows() \n"
   ]
  },
  {
   "cell_type": "code",
   "execution_count": 12,
   "id": "2e7d0df6",
   "metadata": {},
   "outputs": [
    {
     "name": "stdout",
     "output_type": "stream",
     "text": [
      "Enter your full name:nebo\n",
      "Pasté the image path:\"D:\\Documents\\Profile.png\"\n"
     ]
    },
    {
     "name": "stderr",
     "output_type": "stream",
     "text": [
      "C:\\Users\\NEBO\\AppData\\Local\\Temp\\ipykernel_16616\\3984610679.py:3: FutureWarning: The frame.append method is deprecated and will be removed from pandas in a future version. Use pandas.concat instead.\n",
      "  attendance_dataframe=attendance_dataframe.append(row,ignore_index=True)\n"
     ]
    },
    {
     "name": "stdout",
     "output_type": "stream",
     "text": [
      "[True]\n",
      "[True]\n",
      "[True]\n",
      "[True]\n",
      "[True]\n",
      "[True]\n"
     ]
    }
   ],
   "source": [
    "if __name__ == '__main__':\n",
    "  read_data()\n",
    "    "
   ]
  },
  {
   "cell_type": "code",
   "execution_count": 13,
   "id": "acdb094f",
   "metadata": {},
   "outputs": [
    {
     "data": {
      "text/html": [
       "<div>\n",
       "<style scoped>\n",
       "    .dataframe tbody tr th:only-of-type {\n",
       "        vertical-align: middle;\n",
       "    }\n",
       "\n",
       "    .dataframe tbody tr th {\n",
       "        vertical-align: top;\n",
       "    }\n",
       "\n",
       "    .dataframe thead th {\n",
       "        text-align: right;\n",
       "    }\n",
       "</style>\n",
       "<table border=\"1\" class=\"dataframe\">\n",
       "  <thead>\n",
       "    <tr style=\"text-align: right;\">\n",
       "      <th></th>\n",
       "      <th>Name</th>\n",
       "      <th>Image path</th>\n",
       "      <th>Day 1</th>\n",
       "      <th>Day 2</th>\n",
       "      <th>Day 3</th>\n",
       "      <th>Day 4</th>\n",
       "      <th>Day1</th>\n",
       "    </tr>\n",
       "  </thead>\n",
       "  <tbody>\n",
       "    <tr>\n",
       "      <th>0</th>\n",
       "      <td>[nebo]</td>\n",
       "      <td>[\"D:\\Documents\\Profile.png\"]</td>\n",
       "      <td>Present</td>\n",
       "      <td>NaN</td>\n",
       "      <td>NaN</td>\n",
       "      <td>NaN</td>\n",
       "      <td></td>\n",
       "    </tr>\n",
       "  </tbody>\n",
       "</table>\n",
       "</div>"
      ],
      "text/plain": [
       "     Name                    Image path    Day 1 Day 2 Day 3 Day 4 Day1\n",
       "0  [nebo]  [\"D:\\Documents\\Profile.png\"]  Present   NaN   NaN   NaN     "
      ]
     },
     "execution_count": 13,
     "metadata": {},
     "output_type": "execute_result"
    }
   ],
   "source": [
    "attendance_dataframe\n"
   ]
  },
  {
   "cell_type": "code",
   "execution_count": null,
   "id": "61c2af94",
   "metadata": {},
   "outputs": [],
   "source": [
    "attendance_dataframe['Day 1'].isna()\n"
   ]
  },
  {
   "cell_type": "code",
   "execution_count": null,
   "id": "b2ca567e",
   "metadata": {},
   "outputs": [],
   "source": []
  }
 ],
 "metadata": {
  "kernelspec": {
   "display_name": "Python 3 (ipykernel)",
   "language": "python",
   "name": "python3"
  },
  "language_info": {
   "codemirror_mode": {
    "name": "ipython",
    "version": 3
   },
   "file_extension": ".py",
   "mimetype": "text/x-python",
   "name": "python",
   "nbconvert_exporter": "python",
   "pygments_lexer": "ipython3",
   "version": "3.11.4"
  }
 },
 "nbformat": 4,
 "nbformat_minor": 5
}
