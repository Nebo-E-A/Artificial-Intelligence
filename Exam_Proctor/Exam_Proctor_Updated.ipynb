{
 "cells": [
  {
   "cell_type": "code",
   "execution_count": 3,
   "id": "0f46d3fa",
   "metadata": {},
   "outputs": [],
   "source": [
    "import cv2 \n",
    "import face_recognition \n",
    "import pylivestream.api as pls \n",
    "import time"
   ]
  },
  {
   "cell_type": "code",
   "execution_count": 4,
   "id": "28bb3e4f",
   "metadata": {},
   "outputs": [],
   "source": [
    "def encoding():\n",
    "    known_image = face_recognition.load_image_file(\"D:/Documents/Profile.png\") \n",
    "    known_face_encoding = face_recognition.face_encodings(known_image)\n",
    "    #print(known_face_encoding)\n",
    "    # Create a list of known face encodings and their corresponding names\n",
    "    known_face_encodings = [known_face_encoding]\n",
    "    known_face_names = [\"Known Face\"] \n",
    "    exam_proctor()\n",
    "#print(known_face_encoding) \n",
    "#print(known_face_encodings)\n"
   ]
  },
  {
   "cell_type": "code",
   "execution_count": 6,
   "id": "9eab5ca5",
   "metadata": {},
   "outputs": [],
   "source": [
    "def exam_proctor():\n",
    "    cap = cv2.VideoCapture(0)   \n",
    "    global final_break\n",
    "    global count \n",
    "    global left_count\n",
    "    count=0 \n",
    "    final_break=False\n",
    "    while True: \n",
    "        ret, frame = cap.read() \n",
    "        # Find all face locations and encodings in the current frame\n",
    "        face_locations = face_recognition.face_locations(frame, number_of_times_to_upsample=1, model='hog')\n",
    "        face_encodings = face_recognition.face_encodings(frame, face_locations)\n",
    "\n",
    "        for face_encoding in face_encodings:\n",
    "            # Compare the current face with known faces\n",
    "            matches = face_recognition.compare_faces(known_face_encodings, face_encoding,tolerance=0.55)\n",
    "            name = \"Unknown Person\"\n",
    "            print(matches[0]) \n",
    "            if(count==15): \n",
    "                    cv2.putText(frame,final_warning_text,(left-20,top-80), cv2.FONT_HERSHEY_SIMPLEX, 0.6, (0, 0, 255), 2)   \n",
    "                    final_break=True\n",
    "                    break\n",
    "            # If a match is found, use the name of the known person \n",
    "            if True in matches[0]:\n",
    "                first_match_index = matches.index(True)\n",
    "                name = known_face_names[first_match_index]\n",
    "                #cv2.rectangle(frame, (left, top), (right, bottom), (0, 255, 0), 2)\n",
    "                #cv2.putText(frame, name, (left, top - 10), cv2.FONT_HERSHEY_SIMPLEX, 0.6, (0, 255, 0), 2) \n",
    "            elif(name==\"Unknown Person\"):\n",
    "                count+=1  \n",
    "                left_count=abs(count-15) \n",
    "                alert_text=\"You are getting distracted. Focus on your exams\"  \n",
    "                remaining_warning_text=f\"You have {left_count} warning(s) left\" \n",
    "                final_warning_text=\"You can't continue the exam\"\n",
    "                top, right, bottom, left = face_locations[0]\n",
    "                cv2.putText(frame,alert_text, (20,20), cv2.FONT_HERSHEY_SIMPLEX, 0.6, (0, 255, 0), 2) \n",
    "                cv2.putText(frame,remaining_warning_text,(20,40), cv2.FONT_HERSHEY_SIMPLEX, 0.6, (0, 255, 0), 2)    \n",
    "        #cv2.putText(frame,\"Exitted for loop\",(left-100,top-80), cv2.FONT_HERSHEY_SIMPLEX, 0.6, (0, 255, 0), 2) \n",
    "        #print(count) \n",
    "        #print(remaining_warning_text)\n",
    "        cv2.imshow('Exam Proctoring', frame) \n",
    "\n",
    "\n",
    "        if ((cv2.waitKey(1) & 0xFF == ord('q')) or (final_break==True)):\n",
    "            time.sleep(5)\n",
    "            break\n",
    "\n",
    "    cap.release()\n",
    "    cv2.destroyAllWindows() "
   ]
  },
  {
   "cell_type": "code",
   "execution_count": null,
   "id": "b5f3ade2",
   "metadata": {},
   "outputs": [],
   "source": [
    "if __name__ == '__main__':\n",
    "  encoding()\n",
    "    "
   ]
  },
  {
   "cell_type": "code",
   "execution_count": null,
   "id": "8a1b678f",
   "metadata": {},
   "outputs": [],
   "source": []
  }
 ],
 "metadata": {
  "kernelspec": {
   "display_name": "Python 3 (ipykernel)",
   "language": "python",
   "name": "python3"
  },
  "language_info": {
   "codemirror_mode": {
    "name": "ipython",
    "version": 3
   },
   "file_extension": ".py",
   "mimetype": "text/x-python",
   "name": "python",
   "nbconvert_exporter": "python",
   "pygments_lexer": "ipython3",
   "version": "3.11.4"
  }
 },
 "nbformat": 4,
 "nbformat_minor": 5
}
