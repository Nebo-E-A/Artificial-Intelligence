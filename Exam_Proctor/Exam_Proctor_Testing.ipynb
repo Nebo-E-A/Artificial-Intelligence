{
 "cells": [
  {
   "cell_type": "code",
   "execution_count": 1,
   "id": "2f4f8461",
   "metadata": {},
   "outputs": [],
   "source": [
    "import cv2 \n",
    "import face_recognition \n",
    "import time"
   ]
  },
  {
   "cell_type": "code",
   "execution_count": 2,
   "id": "de3f6788",
   "metadata": {},
   "outputs": [],
   "source": [
    "def encode():\n",
    "    known_image = face_recognition.load_image_file(\"Train_image_path_here\")\n",
    "    known_face_encoding = face_recognition.face_encodings(known_image)[0]\n",
    "\n",
    "    # Create a list of known face encodings and their corresponding names\n",
    "    known_face_encodings = [known_face_encoding]\n",
    "    known_face_names = [\"Known Person\"] \n",
    "    exam_proctor(known_face_encodings, known_face_names )"
   ]
  },
  {
   "cell_type": "code",
   "execution_count": 3,
   "id": "b8a993dd",
   "metadata": {},
   "outputs": [],
   "source": [
    "def exam_proctor(known_face_encodings, known_face_names ):\n",
    "    cap = cv2.VideoCapture(0) \n",
    "    global final_break\n",
    "    global count \n",
    "    global left_count\n",
    "    count=0 \n",
    "    final_break=False\n",
    "    while True:\n",
    "        ret, frame = cap.read()\n",
    "\n",
    "        # Find all face locations and encodings in the current frame\n",
    "        face_locations = face_recognition.face_locations(frame, number_of_times_to_upsample=1, model='hog')\n",
    "        face_encodings = face_recognition.face_encodings(frame, face_locations)\n",
    "\n",
    "        for face_encoding in face_encodings:\n",
    "            # Compare the current face with known faces\n",
    "            matches = face_recognition.compare_faces(known_face_encodings, face_encoding,tolerance=0.55)\n",
    "            name = \"Unknown\"\n",
    "            print(matches)\n",
    "            if(count==15): \n",
    "                cv2.putText(frame,final_warning_text,(left-20,top-80), cv2.FONT_HERSHEY_SIMPLEX, 0.6, (0, 0, 255), 2)   \n",
    "                final_break=True\n",
    "                break\n",
    "            # If a match is found, use the name of the known person\n",
    "            if True in matches:\n",
    "                first_match_index = matches.index(True)\n",
    "                name = known_face_names[first_match_index] \n",
    "            else: \n",
    "                count+=1  \n",
    "                left_count=abs(count-15) \n",
    "                alert_text=\"You are getting distracted. Focus on your exams\"  \n",
    "                remaining_warning_text=f\"You have {left_count} warning(s) left\" \n",
    "                final_warning_text=\"You can't continue the exam\"      \n",
    "                top, right, bottom, left = face_locations[0]\n",
    "                top, right, bottom, left = face_locations[0]\n",
    "                cv2.putText(frame,alert_text, (20,20), cv2.FONT_HERSHEY_SIMPLEX, 0.6, (255,0,0), 2) \n",
    "                cv2.putText(frame,remaining_warning_text,(20,40), cv2.FONT_HERSHEY_SIMPLEX, 0.6, (255, 0, 0), 2)\n",
    "\n",
    "        cv2.imshow('Exam Proctoring', frame)\n",
    "\n",
    "        if ((cv2.waitKey(1) & 0xFF == ord('q')) or (final_break==True)): \n",
    "            time.sleep(5)\n",
    "            break\n",
    "\n",
    "    cap.release()\n",
    "    cv2.destroyAllWindows() \n"
   ]
  },
  {
   "cell_type": "code",
   "execution_count": 4,
   "id": "a333effb",
   "metadata": {},
   "outputs": [
    {
     "name": "stdout",
     "output_type": "stream",
     "text": [
      "[True]\n",
      "[True]\n",
      "[True]\n",
      "[True]\n",
      "[True]\n",
      "[True]\n",
      "[True]\n",
      "[False]\n",
      "[True]\n",
      "[True]\n",
      "[True]\n",
      "[True]\n",
      "[True]\n",
      "[True]\n",
      "[False]\n",
      "[True]\n",
      "[True]\n",
      "[True]\n",
      "[True]\n",
      "[False]\n",
      "[True]\n",
      "[True]\n",
      "[True]\n",
      "[True]\n",
      "[True]\n",
      "[False]\n",
      "[True]\n",
      "[True]\n"
     ]
    }
   ],
   "source": [
    "if __name__ == '__main__':\n",
    "  encode()"
   ]
  },
  {
   "cell_type": "code",
   "execution_count": null,
   "id": "1e70fc11",
   "metadata": {},
   "outputs": [],
   "source": []
  }
 ],
 "metadata": {
  "kernelspec": {
   "display_name": "Python 3 (ipykernel)",
   "language": "python",
   "name": "python3"
  },
  "language_info": {
   "codemirror_mode": {
    "name": "ipython",
    "version": 3
   },
   "file_extension": ".py",
   "mimetype": "text/x-python",
   "name": "python",
   "nbconvert_exporter": "python",
   "pygments_lexer": "ipython3",
   "version": "3.11.4"
  }
 },
 "nbformat": 4,
 "nbformat_minor": 5
}
